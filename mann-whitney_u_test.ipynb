{
 "cells": [
  {
   "cell_type": "code",
   "execution_count": 1,
   "metadata": {},
   "outputs": [],
   "source": [
    "import pandas as pd\n",
    "import json\n",
    "import matplotlib.pyplot as plt\n",
    "import scipy.stats as stats\n",
    "import pprint"
   ]
  },
  {
   "cell_type": "code",
   "execution_count": 4,
   "metadata": {},
   "outputs": [],
   "source": [
    "hue_drop = [\"order_\" + str(i) + \"-\" + str(j) for i in range(17) for j in range(1, 12, 2)]\n",
    "nohue_drop = [\"order_\" + str(i) + \"-\" + str(j) for i in range(17) for j in range(0, 12, 2)]\n",
    "\n",
    "path_hue = \"./data/pilot_study/csv/each_parameter/df_each_parameter_hue.csv\"\n",
    "each_parameter_list_hue = pd.read_csv(path_hue, header=0, index_col=0)\n",
    "index_list_hue = each_parameter_list_hue.drop([\"radius\", \"theta\"]).index.values\n",
    "each_parameter_list_hue = each_parameter_list_hue.drop(columns=hue_drop)\n",
    "\n",
    "path_nohue = \"./data/pilot_study/csv/each_parameter/df_each_parameter_nohue.csv\"\n",
    "each_parameter_list_nohue = pd.read_csv(path_nohue, header=0, index_col=0)\n",
    "index_list_nohue = each_parameter_list_nohue.drop([\"radius\", \"theta\"]).index.values\n",
    "each_parameter_list_nohue = each_parameter_list_nohue.drop(columns=nohue_drop)"
   ]
  },
  {
   "cell_type": "code",
   "execution_count": 17,
   "metadata": {},
   "outputs": [
    {
     "name": "stdout",
     "output_type": "stream",
     "text": [
      "valence\n",
      "MannwhitneyuResult(statistic=5161.0, pvalue=0.46173215718549077)\n",
      "arousal\n",
      "MannwhitneyuResult(statistic=5192.0, pvalue=0.4910100697191884)\n",
      "sliderThetaSub\n",
      "MannwhitneyuResult(statistic=4533.0, pvalue=0.05589633415954716)\n",
      "sliderVertexNum\n",
      "MannwhitneyuResult(statistic=4719.0, pvalue=0.12490068635937973)\n",
      "sliderLengthCoefficient\n",
      "MannwhitneyuResult(statistic=4918.0, pvalue=0.25020504642404456)\n",
      "sliderAmplitude\n",
      "MannwhitneyuResult(statistic=5100.0, pvalue=0.40456719119858436)\n",
      "sliderThetaBeat\n",
      "MannwhitneyuResult(statistic=4781.5, pvalue=0.15881218149125576)\n",
      "sliderHue\n",
      "MannwhitneyuResult(statistic=1875.0, pvalue=1.4861254618894118e-15)\n"
     ]
    }
   ],
   "source": [
    "out_path = \"./data/pilot_study/csv/each_parameter/\"\n",
    "df = pd.DataFrame(index=index_list_hue, columns=[\"p_value\"])\n",
    "for il in index_list_hue:\n",
    "    list_1 = each_parameter_list_hue.loc[il].values\n",
    "    list_2 = each_parameter_list_nohue.loc[il].values\n",
    "    print(il)\n",
    "    result = stats.mannwhitneyu(list_1, list_2)\n",
    "    pprint.pprint(result)\n",
    "    df.loc[il, \"p_value\"] = result[1]"
   ]
  },
  {
   "cell_type": "code",
   "execution_count": 16,
   "metadata": {},
   "outputs": [],
   "source": [
    "df.to_csv(out_path + \"mann-whitney_u_test.csv\")"
   ]
  },
  {
   "cell_type": "code",
   "execution_count": null,
   "metadata": {},
   "outputs": [],
   "source": []
  }
 ],
 "metadata": {
  "kernelspec": {
   "display_name": "Python 3",
   "language": "python",
   "name": "python3"
  },
  "language_info": {
   "codemirror_mode": {
    "name": "ipython",
    "version": 3
   },
   "file_extension": ".py",
   "mimetype": "text/x-python",
   "name": "python",
   "nbconvert_exporter": "python",
   "pygments_lexer": "ipython3",
   "version": "3.7.7"
  }
 },
 "nbformat": 4,
 "nbformat_minor": 4
}
