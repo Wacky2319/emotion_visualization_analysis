{
 "cells": [
  {
   "cell_type": "code",
   "execution_count": 2,
   "metadata": {},
   "outputs": [],
   "source": [
    "import numpy as np\n",
    "import pandas as pd\n",
    "import matplotlib.pyplot as plt\n",
    "import math\n",
    "import collections\n",
    "import pprint\n",
    "from sklearn import linear_model"
   ]
  },
  {
   "cell_type": "code",
   "execution_count": 11,
   "metadata": {},
   "outputs": [
    {
     "name": "stdout",
     "output_type": "stream",
     "text": [
      "sliderThetaSub\n",
      "coef [ 0.65775664 -0.04035559]\n",
      "intercept 0.19485669231126151\n",
      "r^2 0.36067796550591813\n",
      "\n",
      "sliderVertexNum\n",
      "coef [-0.36866938  0.31354959]\n",
      "intercept 0.3769475561446104\n",
      "r^2 0.1748808504779964\n",
      "\n",
      "sliderLengthCoefficient\n",
      "coef [-0.27990727  0.39119481]\n",
      "intercept 0.4615291915919989\n",
      "r^2 0.17133312961172842\n",
      "\n",
      "sliderAmplitude\n",
      "coef [0.08378954 0.66605913]\n",
      "intercept 0.09988674809623033\n",
      "r^2 0.3794491189100754\n",
      "\n",
      "sliderThetaBeat\n",
      "coef [0.0288373  0.85448851]\n",
      "intercept 0.0038081906606964866\n",
      "r^2 0.6887631023974053\n",
      "\n"
     ]
    }
   ],
   "source": [
    "input_path = \"./data/pilot_study/csv/each_parameter/df_normalized_each_subject_parameter.csv\"\n",
    "\n",
    "df = pd.read_csv(input_path, index_col=0).drop([\"sliderHue\", \"radius\", \"theta\"])\n",
    "index_list = df.drop([\"valence\", \"arousal\"]).index.values\n",
    "\n",
    "linear_regression_list = []\n",
    "X = df.T[[\"valence\", \"arousal\"]]\n",
    "\n",
    "# for saving \n",
    "df_out = pd.DataFrame(columns=[str(il) for il in index_list], index=[\"coef_valence\", \"coef_arousal\", \"intercept\", \"r^2\"])\n",
    "for i, il in enumerate(index_list):\n",
    "    linear_regression_list.append(linear_model.LinearRegression())\n",
    "    Y = df.T[il]\n",
    "    linear_regression_list[i].fit(X, Y)\n",
    "    print(il)\n",
    "    print(\"coef\", linear_regression_list[i].coef_)\n",
    "    print(\"intercept\", linear_regression_list[i].intercept_)\n",
    "    print(\"r^2\", linear_regression_list[i].score(X, Y))\n",
    "    print()\n",
    "    df_out.loc[\"coef_valence\", il] = linear_regression_list[i].coef_[0]\n",
    "    df_out.loc[\"coef_arousal\", il] = linear_regression_list[i].coef_[1]\n",
    "    df_out.loc[\"intercept\", il] = linear_regression_list[i].intercept_\n",
    "    df_out.loc[\"r^2\", il] = linear_regression_list[i].score(X, Y)\n"
   ]
  },
  {
   "cell_type": "code",
   "execution_count": 12,
   "metadata": {},
   "outputs": [
    {
     "data": {
      "text/html": [
       "<div>\n",
       "<style scoped>\n",
       "    .dataframe tbody tr th:only-of-type {\n",
       "        vertical-align: middle;\n",
       "    }\n",
       "\n",
       "    .dataframe tbody tr th {\n",
       "        vertical-align: top;\n",
       "    }\n",
       "\n",
       "    .dataframe thead th {\n",
       "        text-align: right;\n",
       "    }\n",
       "</style>\n",
       "<table border=\"1\" class=\"dataframe\">\n",
       "  <thead>\n",
       "    <tr style=\"text-align: right;\">\n",
       "      <th></th>\n",
       "      <th>sliderThetaSub</th>\n",
       "      <th>sliderVertexNum</th>\n",
       "      <th>sliderLengthCoefficient</th>\n",
       "      <th>sliderAmplitude</th>\n",
       "      <th>sliderThetaBeat</th>\n",
       "    </tr>\n",
       "  </thead>\n",
       "  <tbody>\n",
       "    <tr>\n",
       "      <td>coef_valence</td>\n",
       "      <td>0.657757</td>\n",
       "      <td>-0.368669</td>\n",
       "      <td>-0.279907</td>\n",
       "      <td>0.0837895</td>\n",
       "      <td>0.0288373</td>\n",
       "    </tr>\n",
       "    <tr>\n",
       "      <td>coef_arousal</td>\n",
       "      <td>-0.0403556</td>\n",
       "      <td>0.31355</td>\n",
       "      <td>0.391195</td>\n",
       "      <td>0.666059</td>\n",
       "      <td>0.854489</td>\n",
       "    </tr>\n",
       "    <tr>\n",
       "      <td>intercept</td>\n",
       "      <td>0.194857</td>\n",
       "      <td>0.376948</td>\n",
       "      <td>0.461529</td>\n",
       "      <td>0.0998867</td>\n",
       "      <td>0.00380819</td>\n",
       "    </tr>\n",
       "    <tr>\n",
       "      <td>r^2</td>\n",
       "      <td>0.360678</td>\n",
       "      <td>0.174881</td>\n",
       "      <td>0.171333</td>\n",
       "      <td>0.379449</td>\n",
       "      <td>0.688763</td>\n",
       "    </tr>\n",
       "  </tbody>\n",
       "</table>\n",
       "</div>"
      ],
      "text/plain": [
       "             sliderThetaSub sliderVertexNum sliderLengthCoefficient  \\\n",
       "coef_valence       0.657757       -0.368669               -0.279907   \n",
       "coef_arousal     -0.0403556         0.31355                0.391195   \n",
       "intercept          0.194857        0.376948                0.461529   \n",
       "r^2                0.360678        0.174881                0.171333   \n",
       "\n",
       "             sliderAmplitude sliderThetaBeat  \n",
       "coef_valence       0.0837895       0.0288373  \n",
       "coef_arousal        0.666059        0.854489  \n",
       "intercept          0.0998867      0.00380819  \n",
       "r^2                 0.379449        0.688763  "
      ]
     },
     "execution_count": 12,
     "metadata": {},
     "output_type": "execute_result"
    }
   ],
   "source": [
    "df_out"
   ]
  },
  {
   "cell_type": "code",
   "execution_count": null,
   "metadata": {},
   "outputs": [],
   "source": []
  }
 ],
 "metadata": {
  "kernelspec": {
   "display_name": "Python 3",
   "language": "python",
   "name": "python3"
  },
  "language_info": {
   "codemirror_mode": {
    "name": "ipython",
    "version": 3
   },
   "file_extension": ".py",
   "mimetype": "text/x-python",
   "name": "python",
   "nbconvert_exporter": "python",
   "pygments_lexer": "ipython3",
   "version": "3.7.9"
  }
 },
 "nbformat": 4,
 "nbformat_minor": 4
}
