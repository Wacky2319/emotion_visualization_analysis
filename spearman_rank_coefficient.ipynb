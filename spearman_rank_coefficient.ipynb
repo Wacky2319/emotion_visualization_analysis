{
 "cells": [
  {
   "cell_type": "code",
   "execution_count": null,
   "metadata": {},
   "outputs": [],
   "source": [
    "import pandas as pd\n",
    "import json\n",
    "import matplotlib.pyplot as plt\n",
    "import scipy.stats as stats\n",
    "import pprint\n",
    "%matplotlib inline"
   ]
  },
  {
   "cell_type": "code",
   "execution_count": null,
   "metadata": {},
   "outputs": [],
   "source": [
    "path_hue = \"./data/pilot_study/csv/each_parameter/df_each_parameter_hue.csv\"\n",
    "out_path_hue = \"./data/pilot_study/csv/each_parameter/\"\n",
    "each_parameter_list = pd.read_csv(path_hue, header=0, index_col=0)\n",
    "index_list = each_parameter_list.drop([\"radius\", \"theta\"]).index.values\n"
   ]
  },
  {
   "cell_type": "code",
   "execution_count": null,
   "metadata": {},
   "outputs": [],
   "source": [
    "df_cor_hue = pd.DataFrame(index=index_list, columns=index_list)\n",
    "df_p_hue = pd.DataFrame(index=index_list, columns=index_list)\n",
    "for il1 in index_list:\n",
    "    for il2 in index_list:\n",
    "        print(each_parameter_list.loc[il1])\n",
    "        print(each_parameter_list.loc[il2])\n",
    "        list_1 = each_parameter_list.loc[il1].values\n",
    "        list_2 = each_parameter_list.loc[il2].values\n",
    "        correlation, p_value = stats.spearmanr(list_1, list_2)\n",
    "        df_cor_hue.loc[il1, il2] = correlation\n",
    "        df_p_hue.loc[il1, il2] = p_value"
   ]
  },
  {
   "cell_type": "code",
   "execution_count": null,
   "metadata": {},
   "outputs": [],
   "source": [
    "df_cor_hue.to_csv(out_path_hue + \"correlation_each_parameter_hue.csv\")"
   ]
  },
  {
   "cell_type": "code",
   "execution_count": null,
   "metadata": {},
   "outputs": [],
   "source": [
    "df_p_hue.to_csv(out_path_hue + \"p_value_each_parameter_hue.csv\")"
   ]
  },
  {
   "cell_type": "code",
   "execution_count": null,
   "metadata": {},
   "outputs": [],
   "source": [
    "path_nohue = \"./data/pilot_study/csv/each_parameter/df_each_parameter_nohue.csv\"\n",
    "out_path_nohue = \"./data/pilot_study/csv/each_parameter/\"\n",
    "each_parameter_list = pd.read_csv(path_nohue, header=0, index_col=0)\n",
    "index_list = each_parameter_list.drop([\"radius\", \"theta\"]).index.values\n",
    "\n",
    "df_cor_nohue = pd.DataFrame(index=index_list, columns=index_list)\n",
    "df_p_nohue = pd.DataFrame(index=index_list, columns=index_list)\n",
    "for il1 in index_list:\n",
    "    for il2 in index_list:\n",
    "        list_1 = each_parameter_list.loc[il1].values\n",
    "        list_2 = each_parameter_list.loc[il2].values\n",
    "        correlation, p_value = stats.spearmanr(list_1, list_2)\n",
    "        df_cor_nohue.loc[il1, il2] = correlation\n",
    "        df_p_nohue.loc[il1, il2] = p_value"
   ]
  },
  {
   "cell_type": "code",
   "execution_count": null,
   "metadata": {},
   "outputs": [],
   "source": [
    "df_cor_nohue.to_csv(out_path_nohue + \"correlation_each_parameter_nohue.csv\")"
   ]
  },
  {
   "cell_type": "code",
   "execution_count": null,
   "metadata": {},
   "outputs": [],
   "source": [
    "df_p_nohue.to_csv(out_path_nohue + \"p_value_each_parameter_nohue.csv\")"
   ]
  }
 ],
 "metadata": {
  "kernelspec": {
   "display_name": "Python 3",
   "language": "python",
   "name": "python3"
  },
  "language_info": {
   "codemirror_mode": {
    "name": "ipython",
    "version": 3
   },
   "file_extension": ".py",
   "mimetype": "text/x-python",
   "name": "python",
   "nbconvert_exporter": "python",
   "pygments_lexer": "ipython3",
   "version": "3.7.9"
  }
 },
 "nbformat": 4,
 "nbformat_minor": 4
}
