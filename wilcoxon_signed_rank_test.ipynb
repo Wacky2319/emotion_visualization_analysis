{
 "cells": [
  {
   "cell_type": "code",
   "execution_count": 1,
   "metadata": {},
   "outputs": [],
   "source": [
    "import pandas as pd\n",
    "import json\n",
    "import matplotlib.pyplot as plt\n",
    "import scipy.stats as stats\n",
    "import pprint"
   ]
  },
  {
   "cell_type": "code",
   "execution_count": null,
   "metadata": {},
   "outputs": [],
   "source": [
    "path_hue = \"./data/pilot_study/csv/each_parameter/df_each_parameter_hue.csv\"\n",
    "out_path_hue = \"./data/pilot_study/csv/each_parameter/\"\n",
    "each_parameter_list_hue = pd.read_csv(path_hue, header=0, index_col=0)\n",
    "index_list_hue = each_parameter_list_hue.drop([\"radius\", \"theta\"]).index.values\n",
    "\n",
    "path_nohue = \"./data/pilot_study/csv/each_parameter/df_each_parameter_nohue.csv\"\n",
    "out_path_nohue = \"./data/pilot_study/csv/each_parameter/\"\n",
    "each_parameter_list_nohue = pd.read_csv(path_nohue, header=0, index_col=0)\n",
    "index_list_nohue = each_parameter_list_nohue.drop([\"radius\", \"theta\"]).index.values"
   ]
  },
  {
   "cell_type": "code",
   "execution_count": null,
   "metadata": {},
   "outputs": [],
   "source": [
    "df_cor_hue = pd.DataFrame(index=index_list_hue, columns=index_list_hue)\n",
    "df_p_hue = pd.DataFrame(index=index_list_hue, columns=index_list_hue)\n",
    "df_cor_nohue = pd.DataFrame(index=index_list, columns=index_list)\n",
    "df_p_nohue = pd.DataFrame(index=index_list_nohue, columns=index_list_nohue)\n",
    "\n",
    "for il1 in index_list_hue:\n",
    "    for il2 in index_list_hue:\n",
    "        list_1 = each_parameter_list.loc[il1].values\n",
    "        list_2 = each_parameter_list.loc[il2].values\n",
    "        correlation, p_value = stats.wilcoxon(list_1, list_2)\n",
    "        df_cor_hue.loc[il1, il2] = correlation\n",
    "        df_p_hue.loc[il1, il2] = p_value\n",
    "df_p.to_csv(out_path + \"wilcoxon_signed_rank_test.csv\")\n",
    "df_t = pd.DataFrame(index=index_list_hue, columns=index_list_hue)\n",
    "df_p = pd.DataFrame(index=index_list_hue, columns=index_list_hue)"
   ]
  }
 ],
 "metadata": {
  "kernelspec": {
   "display_name": "Python 3",
   "language": "python",
   "name": "python3"
  },
  "language_info": {
   "codemirror_mode": {
    "name": "ipython",
    "version": 3
   },
   "file_extension": ".py",
   "mimetype": "text/x-python",
   "name": "python",
   "nbconvert_exporter": "python",
   "pygments_lexer": "ipython3",
   "version": "3.7.7"
  }
 },
 "nbformat": 4,
 "nbformat_minor": 4
}
