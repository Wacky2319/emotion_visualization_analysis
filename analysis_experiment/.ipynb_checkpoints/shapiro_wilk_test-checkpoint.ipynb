{
 "cells": [
  {
   "cell_type": "code",
   "execution_count": 26,
   "metadata": {},
   "outputs": [],
   "source": [
    "import pandas as pd\n",
    "import json\n",
    "import matplotlib.pyplot as plt\n",
    "import scipy.stats as stats\n",
    "import pprint\n",
    "import numpy as np\n",
    "%matplotlib inline"
   ]
  },
  {
   "cell_type": "code",
   "execution_count": 34,
   "metadata": {},
   "outputs": [
    {
     "name": "stdout",
     "output_type": "stream",
     "text": [
      "['valence' 'arousal' 'userValence' 'userArousal']\n"
     ]
    }
   ],
   "source": [
    "path = \"../data/experiment/csv/overall.csv\"\n",
    "df = pd.read_csv(path)\n",
    "parameter = df.columns.values\n",
    "print(parameter)\n",
    "valence_diff = ((df[parameter[0]] - df[parameter[2]])**2)**0.5\n",
    "arousal_diff = ((df[parameter[1]] - df[parameter[3]])**2)**0.5"
   ]
  },
  {
   "cell_type": "code",
   "execution_count": 36,
   "metadata": {},
   "outputs": [
    {
     "name": "stdout",
     "output_type": "stream",
     "text": [
      "parameter,w,p\n",
      "valence_diff, 0.8868736028671265 , 1.1049897802317687e-10\n"
     ]
    },
    {
     "ename": "NameError",
     "evalue": "name 'param' is not defined",
     "output_type": "error",
     "traceback": [
      "\u001b[0;31m---------------------------------------------------------------------------\u001b[0m",
      "\u001b[0;31mNameError\u001b[0m                                 Traceback (most recent call last)",
      "\u001b[0;32m<ipython-input-36-65c4718bcab4>\u001b[0m in \u001b[0;36m<module>\u001b[0;34m\u001b[0m\n\u001b[1;32m     20\u001b[0m \u001b[0mout_tuple\u001b[0m \u001b[0;34m=\u001b[0m \u001b[0mstats\u001b[0m\u001b[0;34m.\u001b[0m\u001b[0mshapiro\u001b[0m\u001b[0;34m(\u001b[0m\u001b[0mvalence_diff\u001b[0m\u001b[0;34m.\u001b[0m\u001b[0mvalues\u001b[0m\u001b[0;34m)\u001b[0m\u001b[0;34m\u001b[0m\u001b[0;34m\u001b[0m\u001b[0m\n\u001b[1;32m     21\u001b[0m \u001b[0mprint\u001b[0m\u001b[0;34m(\u001b[0m\u001b[0;34m\"valence_diff,\"\u001b[0m\u001b[0;34m,\u001b[0m \u001b[0mout_tuple\u001b[0m\u001b[0;34m[\u001b[0m\u001b[0;36m0\u001b[0m\u001b[0;34m]\u001b[0m\u001b[0;34m,\u001b[0m \u001b[0;34m\",\"\u001b[0m\u001b[0;34m,\u001b[0m \u001b[0mout_tuple\u001b[0m\u001b[0;34m[\u001b[0m\u001b[0;36m1\u001b[0m\u001b[0;34m]\u001b[0m\u001b[0;34m)\u001b[0m\u001b[0;34m\u001b[0m\u001b[0;34m\u001b[0m\u001b[0m\n\u001b[0;32m---> 22\u001b[0;31m \u001b[0mdist\u001b[0m \u001b[0;34m=\u001b[0m \u001b[0mdf\u001b[0m\u001b[0;34m[\u001b[0m\u001b[0mparam\u001b[0m\u001b[0;34m]\u001b[0m\u001b[0;34m\u001b[0m\u001b[0;34m\u001b[0m\u001b[0m\n\u001b[0m\u001b[1;32m     23\u001b[0m \u001b[0;31m# plot as histgram\u001b[0m\u001b[0;34m\u001b[0m\u001b[0;34m\u001b[0m\u001b[0;34m\u001b[0m\u001b[0m\n\u001b[1;32m     24\u001b[0m \u001b[0mplt\u001b[0m\u001b[0;34m.\u001b[0m\u001b[0mtitle\u001b[0m\u001b[0;34m(\u001b[0m\u001b[0;34m\"Histgram of \"\u001b[0m \u001b[0;34m+\u001b[0m \u001b[0mparam\u001b[0m\u001b[0;34m.\u001b[0m\u001b[0mcapitalize\u001b[0m\u001b[0;34m(\u001b[0m\u001b[0;34m)\u001b[0m\u001b[0;34m,\u001b[0m \u001b[0mfontsize\u001b[0m\u001b[0;34m=\u001b[0m\u001b[0;36m20\u001b[0m\u001b[0;34m)\u001b[0m\u001b[0;34m\u001b[0m\u001b[0;34m\u001b[0m\u001b[0m\n",
      "\u001b[0;31mNameError\u001b[0m: name 'param' is not defined"
     ]
    }
   ],
   "source": [
    "print(\"parameter,w,p\")\n",
    "# for param in parameter:\n",
    "#     # calc shapiro-wilk test\n",
    "#     out_tuple = stats.shapiro(df[param].values)\n",
    "#     print(param, \",\", out_tuple[0], \",\", out_tuple[1])\n",
    "#     dist = df[param]\n",
    "#     # plot as histgram\n",
    "#     plt.title(\"Histgram of \" + param.capitalize(), fontsize=20)\n",
    "#     plt.tick_params(labelsize = 12)\n",
    "#     plt.xlabel(param.capitalize(), fontsize=20)\n",
    "#     plt.ylabel(\"Frequency\", fontsize=20)\n",
    "#     plt.hist(dist, ec=\"black\")\n",
    "#     # draw\n",
    "#     plt.show()\n",
    "#     stats.probplot(dist, dist=\"norm\", plot=plt)\n",
    "#     plt.show()\n",
    "\n",
    "\n",
    "# calc shapiro-wilk test\n",
    "out_tuple = stats.shapiro(valence_diff.values)\n",
    "print(\"valence_diff,\", out_tuple[0], \",\", out_tuple[1])\n",
    "dist = df[param]\n",
    "# plot as histgram\n",
    "plt.title(\"Histgram of valence_diff\", fontsize=20)\n",
    "plt.tick_params(labelsize = 12)\n",
    "plt.xlabel(\"valence_diff\", fontsize=20)\n",
    "plt.ylabel(\"Frequency\", fontsize=20)\n",
    "plt.hist(dist, ec=\"black\")\n",
    "# draw\n",
    "plt.show()\n",
    "stats.probplot(dist, dist=\"norm\", plot=plt)\n",
    "plt.show()"
   ]
  },
  {
   "cell_type": "code",
   "execution_count": null,
   "metadata": {},
   "outputs": [],
   "source": []
  }
 ],
 "metadata": {
  "kernelspec": {
   "display_name": "Python 3",
   "language": "python",
   "name": "python3"
  },
  "language_info": {
   "codemirror_mode": {
    "name": "ipython",
    "version": 3
   },
   "file_extension": ".py",
   "mimetype": "text/x-python",
   "name": "python",
   "nbconvert_exporter": "python",
   "pygments_lexer": "ipython3",
   "version": "3.7.9"
  }
 },
 "nbformat": 4,
 "nbformat_minor": 4
}
