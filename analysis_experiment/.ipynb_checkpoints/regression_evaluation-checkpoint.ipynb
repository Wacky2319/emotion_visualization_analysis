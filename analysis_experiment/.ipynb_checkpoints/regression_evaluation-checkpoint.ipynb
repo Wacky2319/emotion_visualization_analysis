{
 "cells": [
  {
   "cell_type": "code",
   "execution_count": 1,
   "metadata": {},
   "outputs": [],
   "source": [
    "from sklearn.metrics import mean_squared_error\n",
    "import math\n",
    "import pandas as pd"
   ]
  },
  {
   "cell_type": "code",
   "execution_count": 2,
   "metadata": {},
   "outputs": [],
   "source": [
    "path = \"../data/experiment/csv/overall.csv\"\n",
    "df = pd.read_csv(path)\n",
    "valence_g = df[\"valence\"]\n",
    "valence_p = df[\"userValence\"]\n",
    "arousal_g = df[\"arousal\"]\n",
    "arousal_p = df[\"userArousal\"]"
   ]
  },
  {
   "cell_type": "code",
   "execution_count": 3,
   "metadata": {},
   "outputs": [],
   "source": [
    "# calculate rmse\n",
    "rmse_valence = math.sqrt(mean_squared_error(valence_p, valence_g))\n",
    "rmse_arousal = math.sqrt(mean_squared_error(arousal_p, arousal_g))"
   ]
  },
  {
   "cell_type": "code",
   "execution_count": 4,
   "metadata": {},
   "outputs": [
    {
     "name": "stdout",
     "output_type": "stream",
     "text": [
      "rmse_valence:  0.5334505259658956\n",
      "rmse_arousal:  0.2697937739002218\n"
     ]
    }
   ],
   "source": [
    "print(\"rmse_valence: \", rmse_valence)\n",
    "print(\"rmse_arousal: \", rmse_arousal)"
   ]
  },
  {
   "cell_type": "code",
   "execution_count": 5,
   "metadata": {},
   "outputs": [],
   "source": [
    "from scipy import stats\n",
    "import numpy as np"
   ]
  },
  {
   "cell_type": "code",
   "execution_count": 6,
   "metadata": {},
   "outputs": [
    {
     "name": "stdout",
     "output_type": "stream",
     "text": [
      "0.45494441912848654 0.07152247013225047 0.39845958529386427 1.6234991278269907e-08 0.07699199346715242\n"
     ]
    }
   ],
   "source": [
    "slope, intercept, r_value, p_value, std_err = stats.linregress(valence_p, valence_g)\n",
    "print(\"valence: \", slope, intercept, r_value, p_value, std_err)\n",
    "slope, intercept, r_value, p_value, std_err = stats.linregress(valence_p, valence_g)\n",
    "print(\"arousal: \", slope, intercept, r_value, p_value, std_err)"
   ]
  },
  {
   "cell_type": "code",
   "execution_count": 7,
   "metadata": {},
   "outputs": [
    {
     "name": "stdout",
     "output_type": "stream",
     "text": [
      "0.8434311947635978 -0.06305257751368266 0.8893686601557126 8.631777461570294e-65 0.03187714467445584\n"
     ]
    }
   ],
   "source": [
    "slope, intercept, r_value, p_value, std_err = stats.linregress(arousal_p, arousal_g)\n",
    "print(slope, intercept, r_value, p_value, std_err)"
   ]
  },
  {
   "cell_type": "code",
   "execution_count": 8,
   "metadata": {},
   "outputs": [
    {
     "data": {
      "text/plain": [
       "0.7909766136671674"
      ]
     },
     "execution_count": 8,
     "metadata": {},
     "output_type": "execute_result"
    }
   ],
   "source": [
    "r_value*r_value"
   ]
  },
  {
   "cell_type": "code",
   "execution_count": null,
   "metadata": {},
   "outputs": [],
   "source": []
  }
 ],
 "metadata": {
  "kernelspec": {
   "display_name": "Python 3",
   "language": "python",
   "name": "python3"
  },
  "language_info": {
   "codemirror_mode": {
    "name": "ipython",
    "version": 3
   },
   "file_extension": ".py",
   "mimetype": "text/x-python",
   "name": "python",
   "nbconvert_exporter": "python",
   "pygments_lexer": "ipython3",
   "version": "3.7.9"
  }
 },
 "nbformat": 4,
 "nbformat_minor": 4
}
