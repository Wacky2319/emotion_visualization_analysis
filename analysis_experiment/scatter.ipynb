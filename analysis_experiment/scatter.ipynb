{
 "cells": [
  {
   "cell_type": "code",
   "execution_count": 7,
   "metadata": {},
   "outputs": [],
   "source": [
    "from matplotlib import pyplot as plt\n",
    "import numpy as np\n",
    "import scipy.stats as stats\n",
    "import pprint\n",
    "import pandas as pd"
   ]
  },
  {
   "cell_type": "code",
   "execution_count": 17,
   "metadata": {},
   "outputs": [],
   "source": [
    "path = \"../data/experiment/csv/overall.csv\"\n",
    "df = pd.read_csv(path, index_col=False)\n",
    "valence_g = df[\"valence\"]\n",
    "valence_p = df[\"userValence\"]\n",
    "arousal_g = df[\"arousal\"]\n",
    "arousal_p = df[\"userArousal\"]"
   ]
  },
  {
   "cell_type": "code",
   "execution_count": 21,
   "metadata": {},
   "outputs": [
    {
     "data": {
      "text/plain": [
       "Text(0, 0.5, 'Ground truth Valence')"
      ]
     },
     "execution_count": 21,
     "metadata": {},
     "output_type": "execute_result"
    },
    {
     "data": {
      "image/png": "[encoded data removed]",
      "text/plain": [
       "<Figure size 720x720 with 1 Axes>"
      ]
     },
     "metadata": {
      "needs_background": "light"
     },
     "output_type": "display_data"
    }
   ],
   "source": [
    "plt.figure(figsize=(10, 10))\n",
    "plt.grid()\n",
    "plt.scatter(valence_p.values, valence_g.values, s=15)\n",
    "plt.xlim(-1, 1)\n",
    "plt.ylim(-1, 1)\n",
    "plt.xlabel('User-set Valence')\n",
    "plt.ylabel(\"Ground truth Valence\")\n"
   ]
  },
  {
   "cell_type": "code",
   "execution_count": 20,
   "metadata": {},
   "outputs": [
    {
     "data": {
      "text/plain": [
       "array([-0.078, -0.839, -0.262,  0.171,  0.   ,  0.112,  0.028, -0.344,\n",
       "        0.237, -0.677, -0.698,  0.378,  0.392,  0.23 ,  0.365,  0.252,\n",
       "       -0.659, -0.748, -0.439, -0.553,  0.337,  0.39 ,  0.274,  0.486,\n",
       "       -0.346,  0.387,  0.437, -0.057, -0.133, -0.566, -0.207, -0.635,\n",
       "        0.217, -0.194, -0.226, -0.114,  0.869,  0.096, -0.344, -0.169,\n",
       "        0.411, -0.812, -0.179, -0.31 ,  0.255, -0.893, -0.104, -0.198,\n",
       "        0.   , -0.884, -0.145, -0.203, -0.158, -0.125,  0.315, -0.294,\n",
       "        0.237,  0.375, -0.696,  0.254,  0.212, -0.128, -0.387, -0.237,\n",
       "       -0.534, -0.861, -0.501,  0.475, -0.004, -0.159, -0.366,  0.042,\n",
       "       -0.228, -0.192, -0.273, -0.543, -0.07 , -0.106, -0.055, -0.336,\n",
       "       -0.311, -0.007, -0.394, -0.226,  0.2  , -0.49 , -0.305, -0.497,\n",
       "        0.109, -0.865,  0.101, -0.094, -0.193, -0.683, -0.93 , -0.42 ,\n",
       "        0.106, -0.077,  0.061, -0.433, -0.27 ,  0.255,  0.482,  0.199,\n",
       "        0.866, -0.312, -0.393, -0.905,  0.846, -0.439, -0.144,  0.074,\n",
       "       -0.273, -0.245,  0.161, -0.48 ,  0.387, -0.295, -0.371, -0.476,\n",
       "       -0.35 , -0.212, -0.493,  0.172, -0.324, -0.059, -0.339,  0.232,\n",
       "        0.538,  0.714,  0.923,  0.271, -0.89 , -0.139,  0.313,  0.162,\n",
       "       -0.295, -0.938, -0.638, -0.07 , -1.   , -1.   ,  0.334, -1.   ,\n",
       "        0.14 ,  0.179, -0.624,  0.262, -0.425, -1.   , -0.58 , -0.352,\n",
       "       -1.   , -0.362,  0.721,  0.132, -0.348,  0.99 ,  0.516,  0.385,\n",
       "       -0.19 ,  0.371, -0.255, -0.282, -0.623,  0.71 ,  0.151, -0.413,\n",
       "       -0.394, -0.249, -0.629, -0.115, -0.703, -0.233, -0.545, -0.332,\n",
       "       -0.76 , -0.681, -0.35 , -0.067, -0.137, -0.123, -0.393, -0.977,\n",
       "       -0.191, -0.169, -0.661, -0.078, -0.839, -0.262,  0.171,  0.   ,\n",
       "        0.112,  0.028, -0.344,  0.237, -0.677, -0.698,  0.378,  0.392,\n",
       "        0.23 ,  0.365,  0.252, -0.659, -0.748, -0.439, -0.553,  0.337,\n",
       "        0.39 ,  0.274,  0.486, -0.346,  0.387,  0.437, -0.057, -0.133,\n",
       "       -0.566, -0.207, -0.635,  0.217, -0.194, -0.226, -0.114,  0.869,\n",
       "        0.096, -0.344, -0.169,  0.411, -0.812, -0.179, -0.31 ,  0.255,\n",
       "       -0.893, -0.104, -0.198,  0.   , -0.884, -0.145, -0.203, -0.158,\n",
       "       -0.125,  0.315, -0.294,  0.237,  0.375, -0.696,  0.254,  0.212,\n",
       "       -0.128, -0.387, -0.237, -0.534, -0.861, -0.501,  0.475, -0.004,\n",
       "       -0.159, -0.366,  0.042, -0.228, -0.192, -0.273, -0.543, -0.07 ,\n",
       "       -0.106, -0.055, -0.336, -0.311, -0.007, -0.394, -0.226,  0.2  ,\n",
       "       -0.49 , -0.305, -0.497,  0.109, -0.865,  0.101, -0.094, -0.193,\n",
       "       -0.683, -0.93 , -0.42 ,  0.106, -0.077,  0.061, -0.433, -0.27 ,\n",
       "        0.255,  0.482,  0.199,  0.866, -0.312, -0.393, -0.905,  0.846,\n",
       "       -0.439, -0.144,  0.074, -0.273, -0.245,  0.161, -0.48 ,  0.387,\n",
       "       -0.295, -0.371, -0.476, -0.35 , -0.212, -0.493,  0.172, -0.324,\n",
       "       -0.059, -0.339,  0.232,  0.538,  0.714,  0.923,  0.271, -0.89 ,\n",
       "       -0.139,  0.313,  0.162, -0.295, -0.938, -0.638, -0.07 , -1.   ,\n",
       "       -1.   ,  0.334, -1.   ,  0.14 ,  0.179, -0.624,  0.262, -0.425,\n",
       "       -1.   , -0.58 , -0.352, -1.   , -0.362,  0.721,  0.132, -0.348,\n",
       "        0.99 ,  0.516,  0.385, -0.19 ,  0.371, -0.255, -0.282, -0.623,\n",
       "        0.71 ,  0.151, -0.413, -0.394, -0.249, -0.629, -0.115, -0.703,\n",
       "       -0.233, -0.545, -0.332, -0.76 , -0.681, -0.35 , -0.067, -0.137,\n",
       "       -0.123, -0.393, -0.977, -0.191, -0.169, -0.661, -0.078, -0.839,\n",
       "       -0.262,  0.171,  0.   ,  0.112,  0.028, -0.344,  0.237, -0.677,\n",
       "       -0.698,  0.378,  0.392,  0.23 ,  0.365,  0.252, -0.659, -0.748,\n",
       "       -0.439, -0.553,  0.337,  0.39 ,  0.274,  0.486, -0.346,  0.387,\n",
       "        0.437, -0.057, -0.133, -0.566, -0.207, -0.635,  0.217, -0.194,\n",
       "       -0.226, -0.114,  0.869,  0.096, -0.344, -0.169,  0.411, -0.812,\n",
       "       -0.179, -0.31 ,  0.255, -0.893, -0.104, -0.198,  0.   , -0.884,\n",
       "       -0.145, -0.203, -0.158, -0.125,  0.315, -0.294,  0.237,  0.375,\n",
       "       -0.696,  0.254,  0.212, -0.128, -0.387, -0.237, -0.534, -0.861,\n",
       "       -0.501,  0.475, -0.004, -0.159, -0.366,  0.042, -0.228, -0.192,\n",
       "       -0.273, -0.543, -0.07 , -0.106, -0.055, -0.336, -0.311, -0.007,\n",
       "       -0.394, -0.226,  0.2  , -0.49 , -0.305, -0.497,  0.109, -0.865,\n",
       "        0.101, -0.094, -0.193, -0.683, -0.93 , -0.42 ,  0.106, -0.077,\n",
       "        0.061, -0.433, -0.27 ,  0.255,  0.482,  0.199,  0.866, -0.312,\n",
       "       -0.393, -0.905,  0.846, -0.439, -0.144,  0.074, -0.273, -0.245,\n",
       "        0.161, -0.48 ,  0.387, -0.295, -0.371, -0.476, -0.35 , -0.212,\n",
       "       -0.493,  0.172, -0.324, -0.059, -0.339,  0.232,  0.538,  0.714,\n",
       "        0.923,  0.271, -0.89 , -0.139,  0.313,  0.162, -0.295, -0.938,\n",
       "       -0.638, -0.07 , -1.   , -1.   ,  0.334, -1.   ,  0.14 ,  0.179,\n",
       "       -0.624,  0.262, -0.425, -1.   , -0.58 , -0.352, -1.   , -0.362,\n",
       "        0.721,  0.132, -0.348,  0.99 ,  0.516,  0.385, -0.19 ,  0.371,\n",
       "       -0.255, -0.282, -0.623,  0.71 ,  0.151, -0.413, -0.394, -0.249,\n",
       "       -0.629, -0.115, -0.703, -0.233, -0.545, -0.332, -0.76 , -0.681,\n",
       "       -0.35 , -0.067, -0.137, -0.123, -0.393, -0.977, -0.191, -0.169,\n",
       "       -0.661, -0.078, -0.839, -0.262,  0.171,  0.   ,  0.112,  0.028,\n",
       "       -0.344,  0.237, -0.677, -0.698,  0.378,  0.392,  0.23 ,  0.365,\n",
       "        0.252, -0.659, -0.748, -0.439, -0.553,  0.337,  0.39 ,  0.274,\n",
       "        0.486, -0.346,  0.387,  0.437, -0.057, -0.133, -0.566, -0.207,\n",
       "       -0.635,  0.217, -0.194, -0.226, -0.114,  0.869,  0.096, -0.344,\n",
       "       -0.169,  0.411, -0.812, -0.179, -0.31 ,  0.255, -0.893, -0.104,\n",
       "       -0.198,  0.   , -0.884, -0.145, -0.203, -0.158, -0.125,  0.315,\n",
       "       -0.294,  0.237,  0.375, -0.696,  0.254,  0.212, -0.128, -0.387,\n",
       "       -0.237, -0.534, -0.861, -0.501,  0.475, -0.004, -0.159, -0.366,\n",
       "        0.042, -0.228, -0.192, -0.273, -0.543, -0.07 , -0.106, -0.055,\n",
       "       -0.336, -0.311, -0.007, -0.394, -0.226,  0.2  , -0.49 , -0.305,\n",
       "       -0.497,  0.109, -0.865,  0.101, -0.094, -0.193, -0.683, -0.93 ,\n",
       "       -0.42 ,  0.106, -0.077,  0.061, -0.433, -0.27 ,  0.255,  0.482,\n",
       "        0.199,  0.866, -0.312, -0.393, -0.905,  0.846, -0.439, -0.144,\n",
       "        0.074, -0.273, -0.245,  0.161, -0.48 ,  0.387, -0.295, -0.371,\n",
       "       -0.476, -0.35 , -0.212, -0.493,  0.172, -0.324, -0.059, -0.339,\n",
       "        0.232,  0.538,  0.714,  0.923,  0.271, -0.89 , -0.139,  0.313,\n",
       "        0.162, -0.295, -0.938, -0.638, -0.07 , -1.   , -1.   ,  0.334,\n",
       "       -1.   ,  0.14 ,  0.179, -0.624,  0.262, -0.425, -1.   , -0.58 ,\n",
       "       -0.352, -1.   , -0.362,  0.721,  0.132, -0.348,  0.99 ,  0.516,\n",
       "        0.385, -0.19 ,  0.371, -0.255, -0.282, -0.623,  0.71 ,  0.151,\n",
       "       -0.413, -0.394, -0.249, -0.629, -0.115, -0.703, -0.233, -0.545,\n",
       "       -0.332, -0.76 , -0.681, -0.35 , -0.067, -0.137, -0.123, -0.393,\n",
       "       -0.977, -0.191, -0.169, -0.661, -0.078, -0.839, -0.262,  0.171,\n",
       "        0.   ,  0.112,  0.028, -0.344,  0.237, -0.677, -0.698,  0.378,\n",
       "        0.392,  0.23 ,  0.365,  0.252, -0.659, -0.748, -0.439, -0.553,\n",
       "        0.337,  0.39 ,  0.274,  0.486, -0.346,  0.387,  0.437, -0.057,\n",
       "       -0.133, -0.566, -0.207, -0.635,  0.217, -0.194, -0.226, -0.114,\n",
       "        0.869,  0.096, -0.344, -0.169,  0.411, -0.812, -0.179, -0.31 ,\n",
       "        0.255, -0.893, -0.104, -0.198,  0.   , -0.884, -0.145, -0.203,\n",
       "       -0.158, -0.125,  0.315, -0.294,  0.237,  0.375, -0.696,  0.254,\n",
       "        0.212, -0.128, -0.387, -0.237, -0.534, -0.861, -0.501,  0.475,\n",
       "       -0.004, -0.159, -0.366,  0.042, -0.228, -0.192, -0.273, -0.543,\n",
       "       -0.07 , -0.106, -0.055, -0.336, -0.311, -0.007, -0.394, -0.226,\n",
       "        0.2  , -0.49 , -0.305, -0.497,  0.109, -0.865,  0.101, -0.094,\n",
       "       -0.193, -0.683, -0.93 , -0.42 ,  0.106, -0.077,  0.061, -0.433,\n",
       "       -0.27 ,  0.255,  0.482,  0.199,  0.866, -0.312, -0.393, -0.905,\n",
       "        0.846, -0.439, -0.144,  0.074, -0.273, -0.245,  0.161, -0.48 ,\n",
       "        0.387, -0.295, -0.371, -0.476, -0.35 , -0.212, -0.493,  0.172,\n",
       "       -0.324, -0.059, -0.339,  0.232,  0.538,  0.714,  0.923,  0.271,\n",
       "       -0.89 , -0.139,  0.313,  0.162, -0.295, -0.938, -0.638, -0.07 ,\n",
       "       -1.   , -1.   ,  0.334, -1.   ,  0.14 ,  0.179, -0.624,  0.262,\n",
       "       -0.425, -1.   , -0.58 , -0.352, -1.   , -0.362,  0.721,  0.132,\n",
       "       -0.348,  0.99 ,  0.516,  0.385, -0.19 ,  0.371, -0.255, -0.282,\n",
       "       -0.623,  0.71 ,  0.151, -0.413, -0.394, -0.249, -0.629, -0.115,\n",
       "       -0.703, -0.233, -0.545, -0.332, -0.76 , -0.681, -0.35 , -0.067,\n",
       "       -0.137, -0.123, -0.393, -0.977, -0.191, -0.169, -0.661])"
      ]
     },
     "execution_count": 20,
     "metadata": {},
     "output_type": "execute_result"
    }
   ],
   "source": [
    "valence_p.values"
   ]
  },
  {
   "cell_type": "code",
   "execution_count": null,
   "metadata": {},
   "outputs": [],
   "source": []
  }
 ],
 "metadata": {
  "kernelspec": {
   "display_name": "Python 3",
   "language": "python",
   "name": "python3"
  },
  "language_info": {
   "codemirror_mode": {
    "name": "ipython",
    "version": 3
   },
   "file_extension": ".py",
   "mimetype": "text/x-python",
   "name": "python",
   "nbconvert_exporter": "python",
   "pygments_lexer": "ipython3",
   "version": "3.7.9"
  }
 },
 "nbformat": 4,
 "nbformat_minor": 4
}
